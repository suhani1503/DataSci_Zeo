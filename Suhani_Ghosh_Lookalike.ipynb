{
  "nbformat": 4,
  "nbformat_minor": 0,
  "metadata": {
    "colab": {
      "provenance": []
    },
    "kernelspec": {
      "name": "python3",
      "display_name": "Python 3"
    },
    "language_info": {
      "name": "python"
    }
  },
  "cells": [
    {
      "cell_type": "markdown",
      "source": [
        "Task 2\n",
        "\n",
        "Build a Lookalike Model that takes a user's information as input and recommends 3 similar customers based on their profile and transaction history. The model should:\n",
        "\n",
        "● Use both customer and product information.\n",
        "\n",
        "● Assign a similarity score to each recommended customer.\n",
        "\n",
        "Deliverables:\n",
        "\n",
        "● Give the top 3 lookalikes with there similarity scores for the first 20 customers (CustomerID: C0001 - C0020) in Customers.csv. Form an “Lookalike.csv” which has just one map: Map<cust_id, List<cust_id, score>>\n",
        "\n",
        "● A Jupyter Notebook/Python script explaining your model development"
      ],
      "metadata": {
        "id": "JoJ_8M_eI1Yw"
      }
    },
    {
      "cell_type": "code",
      "execution_count": 4,
      "metadata": {
        "colab": {
          "base_uri": "https://localhost:8080/"
        },
        "id": "q5PIlEW-IUSp",
        "outputId": "bdabd0b4-47fb-410e-a9b7-ba943f1903ae"
      },
      "outputs": [
        {
          "output_type": "stream",
          "name": "stdout",
          "text": [
            "Lookalike recommendations saved to Lookalike.csv\n"
          ]
        },
        {
          "output_type": "stream",
          "name": "stderr",
          "text": [
            "/usr/local/lib/python3.11/dist-packages/sklearn/utils/validation.py:2739: UserWarning: X does not have valid feature names, but NearestNeighbors was fitted with feature names\n",
            "  warnings.warn(\n",
            "/usr/local/lib/python3.11/dist-packages/sklearn/utils/validation.py:2739: UserWarning: X does not have valid feature names, but NearestNeighbors was fitted with feature names\n",
            "  warnings.warn(\n",
            "/usr/local/lib/python3.11/dist-packages/sklearn/utils/validation.py:2739: UserWarning: X does not have valid feature names, but NearestNeighbors was fitted with feature names\n",
            "  warnings.warn(\n",
            "/usr/local/lib/python3.11/dist-packages/sklearn/utils/validation.py:2739: UserWarning: X does not have valid feature names, but NearestNeighbors was fitted with feature names\n",
            "  warnings.warn(\n",
            "/usr/local/lib/python3.11/dist-packages/sklearn/utils/validation.py:2739: UserWarning: X does not have valid feature names, but NearestNeighbors was fitted with feature names\n",
            "  warnings.warn(\n",
            "/usr/local/lib/python3.11/dist-packages/sklearn/utils/validation.py:2739: UserWarning: X does not have valid feature names, but NearestNeighbors was fitted with feature names\n",
            "  warnings.warn(\n",
            "/usr/local/lib/python3.11/dist-packages/sklearn/utils/validation.py:2739: UserWarning: X does not have valid feature names, but NearestNeighbors was fitted with feature names\n",
            "  warnings.warn(\n",
            "/usr/local/lib/python3.11/dist-packages/sklearn/utils/validation.py:2739: UserWarning: X does not have valid feature names, but NearestNeighbors was fitted with feature names\n",
            "  warnings.warn(\n",
            "/usr/local/lib/python3.11/dist-packages/sklearn/utils/validation.py:2739: UserWarning: X does not have valid feature names, but NearestNeighbors was fitted with feature names\n",
            "  warnings.warn(\n",
            "/usr/local/lib/python3.11/dist-packages/sklearn/utils/validation.py:2739: UserWarning: X does not have valid feature names, but NearestNeighbors was fitted with feature names\n",
            "  warnings.warn(\n",
            "/usr/local/lib/python3.11/dist-packages/sklearn/utils/validation.py:2739: UserWarning: X does not have valid feature names, but NearestNeighbors was fitted with feature names\n",
            "  warnings.warn(\n",
            "/usr/local/lib/python3.11/dist-packages/sklearn/utils/validation.py:2739: UserWarning: X does not have valid feature names, but NearestNeighbors was fitted with feature names\n",
            "  warnings.warn(\n",
            "/usr/local/lib/python3.11/dist-packages/sklearn/utils/validation.py:2739: UserWarning: X does not have valid feature names, but NearestNeighbors was fitted with feature names\n",
            "  warnings.warn(\n",
            "/usr/local/lib/python3.11/dist-packages/sklearn/utils/validation.py:2739: UserWarning: X does not have valid feature names, but NearestNeighbors was fitted with feature names\n",
            "  warnings.warn(\n",
            "/usr/local/lib/python3.11/dist-packages/sklearn/utils/validation.py:2739: UserWarning: X does not have valid feature names, but NearestNeighbors was fitted with feature names\n",
            "  warnings.warn(\n",
            "/usr/local/lib/python3.11/dist-packages/sklearn/utils/validation.py:2739: UserWarning: X does not have valid feature names, but NearestNeighbors was fitted with feature names\n",
            "  warnings.warn(\n",
            "/usr/local/lib/python3.11/dist-packages/sklearn/utils/validation.py:2739: UserWarning: X does not have valid feature names, but NearestNeighbors was fitted with feature names\n",
            "  warnings.warn(\n",
            "/usr/local/lib/python3.11/dist-packages/sklearn/utils/validation.py:2739: UserWarning: X does not have valid feature names, but NearestNeighbors was fitted with feature names\n",
            "  warnings.warn(\n",
            "/usr/local/lib/python3.11/dist-packages/sklearn/utils/validation.py:2739: UserWarning: X does not have valid feature names, but NearestNeighbors was fitted with feature names\n",
            "  warnings.warn(\n",
            "/usr/local/lib/python3.11/dist-packages/sklearn/utils/validation.py:2739: UserWarning: X does not have valid feature names, but NearestNeighbors was fitted with feature names\n",
            "  warnings.warn(\n"
          ]
        }
      ],
      "source": [
        "import pandas as pd\n",
        "from sklearn.preprocessing import StandardScaler\n",
        "from sklearn.neighbors import NearestNeighbors\n",
        "from scipy.spatial.distance import cosine\n",
        "\n",
        "# Load the data\n",
        "customers_df = pd.read_csv(\"Customers.csv\")\n",
        "products_df = pd.read_csv(\"Products.csv\")\n",
        "transactions_df = pd.read_csv(\"Transactions.csv\")\n",
        "\n",
        "# Merge data\n",
        "merged_data = pd.merge(transactions_df, products_df[['ProductID', 'Price']], on='ProductID', how='left')\n",
        "merged_data = pd.merge(merged_data, customers_df[['CustomerID', 'Region']], on='CustomerID', how='left')\n",
        "\n",
        "# Drop redundant Price columns (Price_x and Price_y) and keep only one 'Price' column\n",
        "merged_data.drop(columns=['Price_x'], inplace=True)\n",
        "merged_data.rename(columns={'Price_y': 'Price'}, inplace=True)\n",
        "\n",
        "# Feature Engineering\n",
        "# Aggregate transaction data per customer\n",
        "customer_profile = merged_data.groupby(\"CustomerID\").agg({\n",
        "    \"TotalValue\": \"sum\",  # Sum of transaction values for each customer\n",
        "    \"Quantity\": \"sum\",    # Total quantity purchased for each customer\n",
        "    \"Price\": \"mean\",      # Average price per customer\n",
        "}).reset_index()\n",
        "\n",
        "# Adding customer region info to customer profile\n",
        "customer_profile = pd.merge(customer_profile, customers_df[['CustomerID', 'Region']], on='CustomerID', how='left')\n",
        "\n",
        "# Scaling the numerical features\n",
        "scaler = StandardScaler()\n",
        "customer_profile[['TotalValue', 'Quantity', 'Price']] = scaler.fit_transform(customer_profile[['TotalValue', 'Quantity', 'Price']])\n",
        "\n",
        "# Prepare the feature matrix (excluding 'CustomerID' and 'Region')\n",
        "features = customer_profile[['TotalValue', 'Quantity', 'Price']]\n",
        "\n",
        "# Fit the Nearest Neighbors model\n",
        "nbrs = NearestNeighbors(n_neighbors=4, metric='cosine')  # 4 neighbors, including the customer itself\n",
        "nbrs.fit(features)\n",
        "\n",
        "# Get the top 3 lookalike customers for the first 20 customers (C0001 - C0020)\n",
        "lookalike_results = {}\n",
        "\n",
        "for customer_id in customer_profile['CustomerID'][:20]:\n",
        "    customer_idx = customer_profile[customer_profile['CustomerID'] == customer_id].index[0]\n",
        "    distances, indices = nbrs.kneighbors([features.iloc[customer_idx]])\n",
        "\n",
        "    # Prepare the lookalikes and similarity scores\n",
        "    lookalikes = []\n",
        "    for i in range(1, 4):  # Get top 3 lookalikes (skip the first one as it's the customer itself)\n",
        "        similar_customer_id = customer_profile.iloc[indices[0][i]]['CustomerID']\n",
        "        similarity_score = 1 - distances[0][i]  # Convert distance to similarity (1 - distance)\n",
        "        lookalikes.append([similar_customer_id, similarity_score])\n",
        "\n",
        "    lookalike_results[customer_id] = lookalikes\n",
        "\n",
        "# Create an empty list to hold all the rows for the final DataFrame\n",
        "lookalike_rows = []\n",
        "\n",
        "for customer_id, lookalikes in lookalike_results.items():\n",
        "    for lookalike in lookalikes:\n",
        "        lookalike_rows.append({\n",
        "            \"CustomerID\": customer_id,\n",
        "            \"LookalikeCustomerID\": lookalike[0],\n",
        "            \"SimilarityScore\": lookalike[1]\n",
        "        })\n",
        "\n",
        "# Convert the list of rows to a DataFrame\n",
        "lookalike_df = pd.DataFrame(lookalike_rows)\n",
        "\n",
        "# Save the results to a CSV file\n",
        "lookalike_df.to_csv(\"Suhani_Ghosh_Lookalike.csv\", index=False)\n",
        "\n",
        "print(\"Lookalike recommendations saved to Lookalike.csv\")\n"
      ]
    }
  ]
}