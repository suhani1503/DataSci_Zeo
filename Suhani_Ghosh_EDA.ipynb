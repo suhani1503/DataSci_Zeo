{
  "nbformat": 4,
  "nbformat_minor": 0,
  "metadata": {
    "colab": {
      "provenance": []
    },
    "kernelspec": {
      "name": "python3",
      "display_name": "Python 3"
    },
    "language_info": {
      "name": "python"
    }
  },
  "cells": [
    {
      "cell_type": "markdown",
      "source": [
        "**Task 1**\n",
        "\n",
        "Exploratory Data Analysis (EDA) and Business Insights\n",
        "1. Perform EDA on the provided dataset.\n",
        "2. Derive at least 5 business insights from the EDA.\n",
        "○ Write these insights in short point-wise sentences (maximum 100 words per\n",
        "insight).\n",
        "Deliverables:\n",
        "\n",
        "● A Jupyter Notebook/Python script containing your EDA code.\n",
        "\n",
        "● A PDF report with business insights (maximum 500 words)"
      ],
      "metadata": {
        "id": "5J6CQArCH6-m"
      }
    },
    {
      "cell_type": "code",
      "execution_count": 1,
      "metadata": {
        "id": "JX1JOAujCWsJ"
      },
      "outputs": [],
      "source": [
        "import pandas as pd\n",
        "import matplotlib.pyplot as plt\n",
        "import seaborn as sns\n",
        "\n",
        "# Loading the datasets\n",
        "customers = pd.read_csv(\"Customers.csv\")\n",
        "products = pd.read_csv(\"Products.csv\")\n",
        "transactions = pd.read_csv(\"Transactions.csv\")\n",
        "\n",
        "# Merge datasets for analysis\n",
        "merged_data = pd.merge(transactions, customers, on=\"CustomerID\", how=\"left\")\n",
        "merged_data = pd.merge(merged_data, products, on=\"ProductID\", how=\"left\")\n",
        "\n",
        "# Exploratory Data Analysis (EDA)\n",
        "# 1. Checking for missing values\n",
        "missing_values = merged_data.isnull().sum()\n",
        "\n",
        "# 2. Summary statistics\n",
        "summary_stats = merged_data.describe()\n",
        "\n",
        "# 3. Top-selling products\n",
        "top_selling_products = merged_data.groupby(\"ProductName\")[\"Quantity\"].sum().sort_values(ascending=False).head(10)\n",
        "\n",
        "# 4. Revenue by region\n",
        "revenue_by_region = merged_data.groupby(\"Region\")[\"TotalValue\"].sum().sort_values(ascending=False)\n",
        "\n",
        "# 5. Monthly sales trend\n",
        "merged_data[\"TransactionDate\"] = pd.to_datetime(merged_data[\"TransactionDate\"])\n",
        "merged_data[\"Month\"] = merged_data[\"TransactionDate\"].dt.to_period(\"M\")\n",
        "monthly_sales = merged_data.groupby(\"Month\")[\"TotalValue\"].sum()\n",
        "\n",
        "# Plotting\n",
        "plt.figure(figsize=(10, 6))\n",
        "monthly_sales.plot(title=\"Monthly Sales Trend\", xlabel=\"Month\", ylabel=\"Total Revenue (USD)\")\n",
        "plt.xticks(rotation=45)\n",
        "plt.tight_layout()\n",
        "plt.savefig(\"monthly_sales_trend.png\")\n",
        "plt.close()\n",
        "\n",
        "# 6. Popular product categories\n",
        "popular_categories = merged_data.groupby(\"Category\")[\"Quantity\"].sum().sort_values(ascending=False)\n",
        "\n",
        "# 7. Average transaction value\n",
        "average_transaction_value = merged_data[\"TotalValue\"].mean()\n",
        "\n",
        "# Save EDA output to file\n",
        "eda_results = {\n",
        "    \"Missing Values\": missing_values.to_dict(),\n",
        "    \"Summary Statistics\": summary_stats.to_dict(),\n",
        "    \"Top-Selling Products\": top_selling_products.to_dict(),\n",
        "    \"Revenue by Region\": revenue_by_region.to_dict(),\n",
        "    \"Popular Categories\": popular_categories.to_dict(),\n",
        "    \"Average Transaction Value\": {\"Average\": average_transaction_value}  # Wrap in a dictionary\n",
        "}\n",
        "\n",
        "# Convert to DataFrame and save to CSV\n",
        "eda_results_df = pd.DataFrame.from_dict(eda_results, orient=\"index\")\n",
        "eda_results_df.to_csv(\"eda_results.csv\")\n"
      ]
    }
  ]
}